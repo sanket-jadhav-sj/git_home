{
 "cells": [
  {
   "cell_type": "code",
   "execution_count": 1,
   "id": "2f242606",
   "metadata": {},
   "outputs": [],
   "source": [
    "# app"
   ]
  },
  {
   "cell_type": "code",
   "execution_count": 3,
   "id": "15e03118",
   "metadata": {},
   "outputs": [
    {
     "name": "stdout",
     "output_type": "stream",
     "text": [
      "The update is done in the develpoer b branch\n"
     ]
    }
   ],
   "source": [
    "print(\"The update is done in the develpoer b branch\")"
   ]
  },
  {
   "cell_type": "code",
   "execution_count": null,
   "id": "ef479787",
   "metadata": {},
   "outputs": [],
   "source": []
  }
 ],
 "metadata": {
  "kernelspec": {
   "display_name": "base",
   "language": "python",
   "name": "python3"
  },
  "language_info": {
   "name": "python",
   "version": "3.12.4"
  }
 },
 "nbformat": 4,
 "nbformat_minor": 5
}

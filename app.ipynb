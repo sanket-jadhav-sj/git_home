{
 "cells": [
  {
   "cell_type": "code",
   "execution_count": 1,
   "id": "2f242606",
   "metadata": {},
   "outputs": [],
   "source": [
    "# app"
   ]
  },
  {
   "cell_type": "code",
   "execution_count": 2,
   "id": "15e03118",
   "metadata": {},
   "outputs": [
    {
     "name": "stdout",
     "output_type": "stream",
     "text": [
      "update in the developer a branch\n"
     ]
    }
   ],
   "source": [
    "print(\"update in the developer a branch\")"
   ]
  },
  {
   "cell_type": "code",
   "execution_count": null,
   "id": "ca6d4301",
   "metadata": {},
   "outputs": [],
   "source": []
  }
 ],
 "metadata": {
  "kernelspec": {
   "display_name": "base",
   "language": "python",
   "name": "python3"
  },
  "language_info": {
   "codemirror_mode": {
    "name": "ipython",
    "version": 3
   },
   "file_extension": ".py",
   "mimetype": "text/x-python",
   "name": "python",
   "nbconvert_exporter": "python",
   "pygments_lexer": "ipython3",
   "version": "3.12.4"
  }
 },
 "nbformat": 4,
 "nbformat_minor": 5
}

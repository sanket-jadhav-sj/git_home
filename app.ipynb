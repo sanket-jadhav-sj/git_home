{
 "cells": [
  {
   "cell_type": "code",
   "execution_count": 1,
   "id": "2f242606",
   "metadata": {},
   "outputs": [],
   "source": [
    "# app"
   ]
  },
  {
   "cell_type": "code",
   "execution_count": 4,
   "id": "15e03118",
   "metadata": {},
   "outputs": [
    {
     "name": "stdout",
     "output_type": "stream",
     "text": [
      "The update is on the main branch \n"
     ]
    }
   ],
   "source": [
    "print(\"The update is on the main branch \")"
   ]
  },
  {
   "cell_type": "code",
   "execution_count": null,
   "id": "43739b8c",
   "metadata": {},
   "outputs": [],
   "source": []
  }
 ],
 "metadata": {
  "kernelspec": {
   "display_name": "base",
   "language": "python",
   "name": "python3"
  },
  "language_info": {
   "name": "python",
   "version": "3.12.4"
  }
 },
 "nbformat": 4,
 "nbformat_minor": 5
}
